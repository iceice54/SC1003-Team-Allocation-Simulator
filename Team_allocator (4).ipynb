{
 "cells": [
  {
   "cell_type": "markdown",
   "metadata": {
    "id": "e3S3xxBmQBoi"
   },
   "source": [
    "#Step1:Define the functions we need."
   ]
  },
  {
   "cell_type": "markdown",
   "metadata": {
    "id": "09pyTOCEseuc"
   },
   "source": [
    "#### allocate_teams"
   ]
  },
  {
   "cell_type": "markdown",
   "metadata": {
    "id": "8dq3NWDfNDsi"
   },
   "source": [
    "This is the main function and it assign the students in each tutorial group into 10 lists trying to meet the requirements to the maximum extent"
   ]
  },
  {
   "cell_type": "markdown",
   "metadata": {
    "id": "BTB4RqWBw4H2"
   },
   "source": [
    "1. Initial setup\n",
    "\n",
    "`all_students`: a copy of `student_list`\n",
    "\n",
    "`remaining_students`: a copy of `student_list`. To track students that haven't been assigned to a group.\n",
    "`group_list`: initialize a nested list with 10 empty groups inside for future group assignment.\n",
    "\n",
    "\n",
    "2. Assign the first 4 students of each group.\n",
    "\n",
    "* the 1st and 3rd student:\n",
    "\n",
    " pick students with the highest cgpa, set index to -1,  pick from the end of the cgpa list.\n",
    "\n",
    "* the 2nd and 4th student:\n",
    "pick students with lowest cgpa, set index to 0, pick from the start of the cgpa list.\n",
    "\n",
    "3. Add student to each group\n",
    "\n",
    "Loop through the lists for every group in `group_list`, add current student to each group list.\n",
    "\n",
    "4. Check school and gender of current list\n",
    "\n",
    "If current list does not exceed gender and school threshold, add next student to the group.\n",
    "\n",
    "Otherwise, try to swap student with another group. However, if swapper cannot find any valid target to swap with, then proceed to assign the next student.\n",
    "\n",
    "5. Calculate the total cgpa of each current groups and store them with the group_num into group_cgpa.\n",
    "\n",
    "6. Sort groups by their `total_gpa` in ascending orderand store the\n",
    "groups in the listsort_output.\n",
    "\n",
    "7. Assign the student based on gpa e.g. lowest gpa group picks highest gpa student\n",
    "\n",
    "8. Check if the sutdent meets the gender or school requirement, if meets, assign student to the group whose index is group_num. If it dosen't meet, swap it using `swapper`.If `swapper` cannot find any valid target,just assign student. Finally return `group_list`.\n",
    "\n",
    "Now we get a list `group_list`, including 10 lists, each list include 5 student."
   ]
  },
  {
   "cell_type": "code",
   "execution_count": 44,
   "metadata": {
    "id": "Mb-KiyyobgNd"
   },
   "outputs": [],
   "source": [
    "def allocate_teams(student_list):\n",
    "    all_students = student_list[:]\n",
    "    remaining_students = student_list[:]\n",
    "    group_list = [[] for i in range(10)]\n",
    "    #assign 4 students to each group\n",
    "    for i in range(4):\n",
    "        #1st and 3rd pick take highest cgpa\n",
    "        if i % 2 == 0:\n",
    "            index = -1\n",
    "        #2nd and 4th pick take lowest cgpa\n",
    "        else:\n",
    "            index = 0\n",
    "\n",
    "        for group_num in range(len(group_list)):\n",
    "            next_student = remaining_students[index]\n",
    "            group = group_list[group_num]\n",
    "            if not exceed_gender_or_school(group, next_student):\n",
    "                assign_group(next_student, group_num, group, remaining_students)\n",
    "            else:\n",
    "                if swapper(next_student, all_students, remaining_students, group_list, group_num, group):\n",
    "                    pass\n",
    "                else:\n",
    "                    #if swapper cant find any valid target, just assign\n",
    "                    assign_group(next_student, group_num, group, remaining_students)\n",
    "\n",
    "\n",
    "    group_cgpa = []\n",
    "    for group_num in range(len(group_list)):\n",
    "        total_cgpa = 0\n",
    "        for student in group_list[group_num]:\n",
    "            total_cgpa += student[1]\n",
    "        group_cgpa.append([group_num, cgpa])\n",
    "\n",
    "    sorted_output = []\n",
    "    for group in group_cgpa:\n",
    "        sort_by_ascending_cgpa(group, group[1], sorted_output)\n",
    "    #sorted_output[[0, 16.4], [1, 16.5], [7, 16.7], ...]\n",
    "\n",
    "    #each group left 1 slot, assign based on gpa e.g. lowest gpa group picks highest gpa student\n",
    "    for i in range(len(sorted_output)):\n",
    "        group_num = sorted_output[i][0]\n",
    "        group = group_list[group_num]\n",
    "        student = remaining_students[-1]\n",
    "        if not exceed_gender_or_school(group, student):\n",
    "            assign_group(student, group_num, group, remaining_students)\n",
    "        else:\n",
    "            if swapper(student, all_students, remaining_students, group_list, group_num, group):\n",
    "                pass\n",
    "            else:\n",
    "                #if swapper cant find any valid target, just assign\n",
    "                assign_group(student, group_num, group, remaining_students)\n",
    "\n",
    "    return group_list"
   ]
  },
  {
   "cell_type": "markdown",
   "metadata": {
    "id": "_jtz0bGLzOb_"
   },
   "source": [
    "#### assign_group"
   ]
  },
  {
   "cell_type": "markdown",
   "metadata": {
    "id": "7HdWL8mpzTms"
   },
   "source": [
    "This function is to assign student to the group and remove it from the remaining_students"
   ]
  },
  {
   "cell_type": "markdown",
   "metadata": {
    "id": "I3VnQk7CzZbX"
   },
   "source": [
    "1.Change the group_num of the student into the current group_num and append the student to the group whose index is group_num."
   ]
  },
  {
   "cell_type": "markdown",
   "metadata": {
    "id": "hyOMXdo-zcOf"
   },
   "source": [
    "2.Remove the student from the remaining_students."
   ]
  },
  {
   "cell_type": "code",
   "execution_count": 45,
   "metadata": {
    "id": "hs7ytfomzaPW"
   },
   "outputs": [],
   "source": [
    "def assign_group(student, group_num, group, remaining_students):\n",
    "    student[6] = group_num\n",
    "    student[5] = True\n",
    "    group.append(student)\n",
    "    if student in remaining_students:\n",
    "      remaining_students.remove(student)"
   ]
  },
  {
   "cell_type": "markdown",
   "metadata": {
    "id": "hI3Vl2Cazi5r"
   },
   "source": [
    "#### swap_validator"
   ]
  },
  {
   "cell_type": "markdown",
   "metadata": {
    "id": "lL4YefqXzpiX"
   },
   "source": [
    "This function supports the function `swapper()` . It is used to check if the try_student in the group can be replaced by student. If can ,the function will return True."
   ]
  },
  {
   "cell_type": "markdown",
   "metadata": {
    "id": "EBnhYgz7zr1W"
   },
   "source": [
    "1.Check if the current group meets the requirement, if meets, return false."
   ]
  },
  {
   "cell_type": "markdown",
   "metadata": {
    "id": "07rzYv_2zvIf"
   },
   "source": [
    "2.Firstly, check if the try_student is in a group. If is, copy the group of try_student and remove try_student. Then check if we replace try_student with student, whether it can meet the requirement. If meets, return True."
   ]
  },
  {
   "cell_type": "markdown",
   "metadata": {
    "id": "9oOHlTGRzzPN"
   },
   "source": [
    "3.If try_student is not in a group, return True."
   ]
  },
  {
   "cell_type": "code",
   "execution_count": 46,
   "metadata": {
    "id": "6Qg35eYIztUi"
   },
   "outputs": [],
   "source": [
    "def swap_validator(student, try_student, group_list, group):\n",
    "    if exceed_gender_or_school(group, try_student):\n",
    "        return False\n",
    "    if try_student[5]:\n",
    "        #create copy of try student group and remove try student to see\n",
    "        #if student will fit in try student group after swap\n",
    "        try_student_group_copy = group_list[try_student[6]][:]\n",
    "        try_student_group_copy.remove(try_student)\n",
    "        return not exceed_gender_or_school(try_student_group_copy, student)\n",
    "    else:\n",
    "        return True"
   ]
  },
  {
   "cell_type": "markdown",
   "metadata": {
    "id": "szX9hH4U0JLH"
   },
   "source": [
    "#### swapper"
   ]
  },
  {
   "cell_type": "markdown",
   "metadata": {
    "id": "_dbC5dOE0Kz0"
   },
   "source": [
    "This function is to swap student with the nearest gpa to meet the gender and school requirement."
   ]
  },
  {
   "cell_type": "markdown",
   "metadata": {
    "id": "DFA0vRhD0Pkv"
   },
   "source": [
    "1.Find the index of the student in the all_students list, initialize the parameters."
   ]
  },
  {
   "cell_type": "markdown",
   "metadata": {
    "id": "9bj4FRm70SQo"
   },
   "source": [
    "2.Loop through every students and check if there are still any more students of higher or lower gpa to check."
   ]
  },
  {
   "cell_type": "markdown",
   "metadata": {
    "id": "4TQzJejO0WG-"
   },
   "source": [
    "3.If there is a person whose gpa is higher than student, name this person try_student.Check if the student can be replaced by try_student.If can ,the swap_validator function will return True and we will assign True to swap. Then assign try_student to swap_student and break the loop."
   ]
  },
  {
   "cell_type": "markdown",
   "metadata": {
    "id": "g40Z53do0aLt"
   },
   "source": [
    "4.If we cannot find a person with a higher gpa, we will check if there is someone with lower gpa. If there is ,simliarly ,we will name him try_student,check if student can be replaced by him .If can ,assign True to swap and assign try_student to swap_student and break the loop."
   ]
  },
  {
   "cell_type": "markdown",
   "metadata": {
    "id": "adnWEc0k0eB0"
   },
   "source": [
    "5.If the person with the nearest gpa with student cannot meet the requirement, increase the index_up and index_down to find the person who meets the requirement and have a nearer gpa."
   ]
  },
  {
   "cell_type": "markdown",
   "metadata": {
    "id": "4QECQhJ70hnp"
   },
   "source": [
    "6.If we find someone ,swap the student and the swap_student from their own groups and return True. If we cannot find a person suitable, return False."
   ]
  },
  {
   "cell_type": "code",
   "execution_count": 47,
   "metadata": {
    "id": "tNfXliiQ0RYo"
   },
   "outputs": [],
   "source": [
    "def swapper(student, all_students, remaining_students, group_list, group_num, group):\n",
    "    index = find_index(student, all_students)\n",
    "    swap = False\n",
    "    search_up, search_down = True, True\n",
    "    index_up, index_down = 1, 1\n",
    "    #loop through every student to check if can swap\n",
    "    while search_up == True or search_down == True:\n",
    "        #check if there are still any more students of higher/lower gpa to check\n",
    "        if index + index_up > len(all_students) - 1:\n",
    "            search_up = False\n",
    "        if index - index_down < 0:\n",
    "            search_down = False\n",
    "        if search_up == True:\n",
    "            try_student = all_students[index + index_up]\n",
    "            if swap_validator(student, try_student, group_list, group):\n",
    "                swap = True\n",
    "                swap_student = try_student\n",
    "                break\n",
    "        if search_down == True:\n",
    "            try_student = all_students[index - index_down]\n",
    "            if swap_validator(student, try_student, group_list, group):\n",
    "                swap = True\n",
    "                swap_student = try_student\n",
    "                break\n",
    "        index_up += 1\n",
    "        index_down += 1\n",
    "    if swap == True:\n",
    "        perform_swap(student, swap_student, remaining_students, group_num, group_list, group)\n",
    "        return True\n",
    "    else:\n",
    "        return False"
   ]
  },
  {
   "cell_type": "markdown",
   "metadata": {
    "id": "hCc0Wziyz3wW"
   },
   "source": [
    "#### perform_swap"
   ]
  },
  {
   "cell_type": "markdown",
   "metadata": {
    "id": "msXZIplnz7SV"
   },
   "source": [
    "This function is to swap student and swap_student from their own group."
   ]
  },
  {
   "cell_type": "markdown",
   "metadata": {
    "id": "QWNeoifDz9vO"
   },
   "source": [
    "1.If the swap_student have already been assigned to a group,find his group and remove him from the group."
   ]
  },
  {
   "cell_type": "markdown",
   "metadata": {
    "id": "plmhr-aa0BTi"
   },
   "source": [
    "2.Then assign student to the group of swap_student and assign swap_student to the group whose index is group_num(the group which the student was supposed to be assigned to )"
   ]
  },
  {
   "cell_type": "markdown",
   "metadata": {
    "id": "Pl8guOSk0FGK"
   },
   "source": [
    "3.If the swap_student haven't been assigned to a group, then just assign him to the gourp instead of student."
   ]
  },
  {
   "cell_type": "code",
   "execution_count": 48,
   "metadata": {
    "id": "xRdA92Otz_km"
   },
   "outputs": [],
   "source": [
    "def perform_swap(student, swap_student, remaining_students, group_num, group_list, group):\n",
    "    if swap_student[5] == True:\n",
    "        swap_student_group_num = swap_student[6]\n",
    "        swap_student_group = group_list[swap_student_group_num]\n",
    "        swap_student_group.remove(swap_student)\n",
    "        assign_group(student, swap_student_group_num, swap_student_group, remaining_students)\n",
    "        assign_group(swap_student, group_num, group, remaining_students)\n",
    "    else:\n",
    "        assign_group(swap_student, group_num, group, remaining_students)"
   ]
  },
  {
   "cell_type": "markdown",
   "metadata": {
    "id": "YRcNc50nf_VY"
   },
   "source": [
    "#### find_index"
   ]
  },
  {
   "cell_type": "markdown",
   "metadata": {
    "id": "gXbSEVuggKv3"
   },
   "source": [
    "This function supports the `swapper()` function, it finds the position of the student in the student_list and returns the index."
   ]
  },
  {
   "cell_type": "code",
   "execution_count": 49,
   "metadata": {
    "id": "6qjw0ICGgBdR"
   },
   "outputs": [],
   "source": [
    "def find_index(value, list):\n",
    "    for index in range(len(list)):\n",
    "        if list[index] == value:\n",
    "            return index"
   ]
  },
  {
   "cell_type": "markdown",
   "metadata": {
    "id": "RqdAo73JVt6S"
   },
   "source": [
    "#### increase_count"
   ]
  },
  {
   "cell_type": "markdown",
   "metadata": {
    "id": "E7kFFbcleGsY"
   },
   "source": [
    "This function supports the `exceed_gender_or_school()` function, it checks if the argument `key`(i.e. The school/gender of the student) is in the argument `dict`(The `schools`, `genders` dictionaries).\n",
    "\n",
    "If the school of the student:\n",
    "1.   already exists in the dictionary `schools`: add 1 to the value of the key(e.g.\"CCDS\").\n",
    "2.   is not in the dictionary `schools`: append a item with the school name as key and set the value to 1.\n",
    "\n",
    "It works the same for gender."
   ]
  },
  {
   "cell_type": "code",
   "execution_count": 50,
   "metadata": {
    "id": "-OtkTGVhVyZE"
   },
   "outputs": [],
   "source": [
    "def increase_count(dict, key):\n",
    "    if key not in dict:\n",
    "        dict[key] = 1\n",
    "    else:\n",
    "        dict[key] += 1"
   ]
  },
  {
   "cell_type": "markdown",
   "metadata": {
    "id": "uhcQF_IVvU5Y"
   },
   "source": [
    "#### exceed_gender_or_school\n"
   ]
  },
  {
   "cell_type": "markdown",
   "metadata": {
    "id": "ABE6k0wovU5Z"
   },
   "source": [
    "check if the current group allocation have exceed gender or school. If there are more than 2 people from the same school, or more than 3 people of the same gender, return True."
   ]
  },
  {
   "cell_type": "markdown",
   "metadata": {
    "id": "1CZw6yxsvU5Z"
   },
   "source": [
    "1. define function with group and new_student as input. Create two empty dictionaries for school and gender to keep track of the count."
   ]
  },
  {
   "cell_type": "markdown",
   "metadata": {
    "id": "JBfs3KI3vU5Z"
   },
   "source": [
    "2. loop through all existing students in current group, examine the school and gender of the student. If the school/gender is already in the dictionaries, add 1 to the value of the key."
   ]
  },
  {
   "cell_type": "markdown",
   "metadata": {
    "id": "DvDgtc5lvU5a"
   },
   "source": [
    "3. examine the school and gender  attribute of the new student, add 1 to the value of key in the dicitonary if it already exist in the current group.\n"
   ]
  },
  {
   "cell_type": "markdown",
   "metadata": {
    "id": "wWoYj6xYvU5a"
   },
   "source": [
    "4. check the final dictionary for school and gender, return True if there are more than 2 students from the same school or more than 3 students are the same gender."
   ]
  },
  {
   "cell_type": "code",
   "execution_count": 51,
   "metadata": {
    "id": "R-8bWWYwvU5Z"
   },
   "outputs": [],
   "source": [
    "def exceed_gender_or_school(group, new_student):\n",
    "    schools = {}\n",
    "    genders = {}\n",
    "    #tally current genders and schools for each group\n",
    "    for existing_student in group:\n",
    "        #student[id, cgpa, gender, name, school, assigned, group number]\n",
    "        increase_count(schools, existing_student[4])\n",
    "        increase_count(genders, existing_student[2])\n",
    "    #add gender and school of new student\n",
    "    increase_count(schools, new_student[4])\n",
    "    increase_count(genders, new_student[2])\n",
    "    for school_count in schools.values():\n",
    "        if school_count > 2:\n",
    "            return True\n",
    "    for gender_count in genders.values():\n",
    "        if gender_count > 3:\n",
    "            return True\n",
    "    return False"
   ]
  },
  {
   "cell_type": "markdown",
   "metadata": {
    "id": "c_i9N6mLg55r"
   },
   "source": [
    "#### sort_by_ascending_cgpa"
   ]
  },
  {
   "cell_type": "markdown",
   "metadata": {
    "id": "G5Cb2Mueiq-n"
   },
   "source": [
    "This function supports the main function `allocate_teams()`. It sorts all groups in the list `group_cgpa` by their `total_cgpa` in ascending order and store the groups in the list `sorted_output`."
   ]
  },
  {
   "cell_type": "markdown",
   "metadata": {
    "id": "6_c-RaHzpfSq"
   },
   "source": [
    "1. define the function.\n",
    "\n",
    "Mapping to main function `allocate_teams()`:\n",
    "\n",
    "\n",
    "*   `to_sort` -> `group` (e.g. [0, 16.4])\n",
    "*   `cgpa` -> `group[1]` (e.g. 16.4)\n",
    "*   `output` -> `sorted_output`(e.g. [[0, 16.4]])\n",
    "\n",
    "If output is empty, add current group to the output list."
   ]
  },
  {
   "cell_type": "markdown",
   "metadata": {
    "id": "4_afugbzrPgj"
   },
   "source": [
    "loop through existing output list, find wherer to insert current entry based on cgpa.\n",
    "\n",
    "Let current entry(cgpa) move right in the list until it is less than or equal to another group's cgpa."
   ]
  },
  {
   "cell_type": "code",
   "execution_count": 52,
   "metadata": {
    "id": "IxBkOjpyhAwM"
   },
   "outputs": [],
   "source": [
    "def sort_by_ascending_cgpa(to_sort, cgpa, output):\n",
    "    if output == []:\n",
    "        output.append(to_sort)\n",
    "        return\n",
    "#loop through each existing entry to find where to insert current entry based on cgpa\n",
    "    index = 0\n",
    "    for entry in output:\n",
    "        entry_cgpa = entry[1]\n",
    "        if cgpa > entry_cgpa:\n",
    "            #move right in list\n",
    "            index += 1\n",
    "            #at end of list\n",
    "            if index == len(output):\n",
    "                output.append(to_sort)\n",
    "                return\n",
    "            continue\n",
    "        elif cgpa <= entry_cgpa:\n",
    "            output.insert(index, to_sort)\n",
    "            return"
   ]
  },
  {
   "cell_type": "code",
   "execution_count": 53,
   "metadata": {},
   "outputs": [
    {
     "ename": "ModuleNotFoundError",
     "evalue": "No module named 'read_to_dict'",
     "output_type": "error",
     "traceback": [
      "\u001b[1;31m---------------------------------------------------------------------------\u001b[0m",
      "\u001b[1;31mModuleNotFoundError\u001b[0m                       Traceback (most recent call last)",
      "Cell \u001b[1;32mIn[53], line 175\u001b[0m\n\u001b[0;32m    171\u001b[0m             \u001b[38;5;28;01mreturn\u001b[39;00m\n\u001b[0;32m    173\u001b[0m \u001b[38;5;66;03m#BELOW IS TO RUN AND ANALYSE\u001b[39;00m\n\u001b[1;32m--> 175\u001b[0m \u001b[38;5;28;01mfrom\u001b[39;00m \u001b[38;5;21;01mread_to_dict\u001b[39;00m \u001b[38;5;28;01mimport\u001b[39;00m read_to_dict\n\u001b[0;32m    176\u001b[0m \u001b[38;5;28;01mimport\u001b[39;00m \u001b[38;5;21;01mpprint\u001b[39;00m\n\u001b[0;32m    178\u001b[0m student_data_dict \u001b[38;5;241m=\u001b[39m read_to_dict(\u001b[38;5;124m\"\u001b[39m\u001b[38;5;124mrecords.csv\u001b[39m\u001b[38;5;124m\"\u001b[39m)\n",
      "\u001b[1;31mModuleNotFoundError\u001b[0m: No module named 'read_to_dict'"
     ]
    }
   ],
   "source": [
    "import matplotlib.pyplot as plt\n",
    "def allocate_teams(student_list):\n",
    "    all_students = student_list[:]\n",
    "    remaining_students = student_list[:]\n",
    "    group_list = [[] for i in range(10)]\n",
    "    #assign 4 students to each group\n",
    "    for i in range(4):\n",
    "        #1st and 3rd pick take highest cgpa\n",
    "        if i % 2 == 0:\n",
    "            index = -1\n",
    "        #2nd and 4th pick take lowest cgpa\n",
    "        else:\n",
    "            index = 0\n",
    "    \n",
    "        for group_num in range(len(group_list)):\n",
    "            next_student = remaining_students[index]\n",
    "            group = group_list[group_num]\n",
    "            if not exceed_gender_or_school(group, next_student):\n",
    "                assign_group(next_student, group_num, group, remaining_students)\n",
    "            else:\n",
    "                if swapper(next_student, all_students, remaining_students, group_list, group_num, group):\n",
    "                    pass\n",
    "                else:\n",
    "                    #if swapper cant find any valid target, just assign\n",
    "                    assign_group(next_student, group_num, group, remaining_students)\n",
    "\n",
    "\n",
    "    group_cgpa = []\n",
    "    for group_num in range(len(group_list)):\n",
    "        total_cgpa = 0\n",
    "        for student in group_list[group_num]:\n",
    "            total_cgpa += student[1]\n",
    "        group_cgpa.append([group_num, cgpa])\n",
    "\n",
    "    sorted_output = []\n",
    "    for group in group_cgpa:\n",
    "        sort_by_ascending_cgpa(group, group[1], sorted_output)\n",
    "    #sorted_output[[0, 16.4], [1, 16.5], [7, 16.7], ...]\n",
    "\n",
    "    #each group left 1 slot, assign based on gpa e.g. lowest gpa group picks highest gpa student\n",
    "    for i in range(len(sorted_output)):\n",
    "        group_num = sorted_output[i][0]\n",
    "        group = group_list[group_num]\n",
    "        student = remaining_students[-1]\n",
    "        if not exceed_gender_or_school(group, student):\n",
    "            assign_group(student, group_num, group, remaining_students)\n",
    "        else:\n",
    "            if swapper(student, all_students, remaining_students, group_list, group_num, group):\n",
    "                pass\n",
    "            else:\n",
    "                #if swapper cant find any valid target, just assign\n",
    "                assign_group(student, group_num, group, remaining_students)            \n",
    "\n",
    "    return group_list\n",
    "\n",
    "def assign_group(student, group_num, group, remaining_students):\n",
    "    student[6] = group_num\n",
    "    student[5] = True\n",
    "    group.append(student)\n",
    "    if student in remaining_students:\n",
    "        remaining_students.remove(student)\n",
    "\n",
    "def swap_validator(student, try_student, group_list, group):\n",
    "    if exceed_gender_or_school(group, try_student):\n",
    "        return False\n",
    "    \n",
    "    if try_student[5]:\n",
    "        #create copy of try student group and remove try student to see \n",
    "        #if student will fit in try student group after swap\n",
    "        try_student_group_copy = group_list[try_student[6]][:]\n",
    "        try_student_group_copy.remove(try_student)\n",
    "        return not exceed_gender_or_school(try_student_group_copy, student)\n",
    "    else:\n",
    "        return True\n",
    "\n",
    "def swapper(student, all_students, remaining_students, group_list, group_num, group):\n",
    "    index = find_index(student, all_students)\n",
    "    swap = False\n",
    "    search_up, search_down = True, True\n",
    "    index_up, index_down = 1, 1\n",
    "    #loop through every student to check if can swap\n",
    "    while search_up == True or search_down == True:\n",
    "        #check if there are still any more students of higher/lower gpa to check\n",
    "        if index + index_up > len(all_students) - 1:\n",
    "            search_up = False\n",
    "        if index - index_down < 0:\n",
    "            search_down = False\n",
    "        \n",
    "        if search_up == True:\n",
    "            try_student = all_students[index + index_up]\n",
    "            if swap_validator(student, try_student, group_list, group):\n",
    "                swap = True\n",
    "                swap_student = try_student\n",
    "                break\n",
    "\n",
    "        if search_down == True:\n",
    "            try_student = all_students[index - index_down]\n",
    "            if swap_validator(student, try_student, group_list, group):\n",
    "                swap = True\n",
    "                swap_student = try_student\n",
    "                break\n",
    "\n",
    "        index_up += 1\n",
    "        index_down += 1\n",
    "\n",
    "    if swap == True:\n",
    "        perform_swap(student, swap_student, remaining_students, group_num, group_list, group)\n",
    "        return True\n",
    "    else:\n",
    "        return False\n",
    "\n",
    "def perform_swap(student, swap_student, remaining_students, group_num, group_list, group):\n",
    "    if swap_student[5] == True:\n",
    "        swap_student_group_num = swap_student[6]\n",
    "        swap_student_group = group_list[swap_student_group_num]\n",
    "        swap_student_group.remove(swap_student)\n",
    "        assign_group(student, swap_student_group_num, swap_student_group, remaining_students)\n",
    "        assign_group(swap_student, group_num, group, remaining_students)\n",
    "    else:\n",
    "        assign_group(swap_student, group_num, group, remaining_students)\n",
    "\n",
    "def find_index(value, list):\n",
    "    for index in range(len(list)):\n",
    "        if list[index] == value:\n",
    "            return index\n",
    "\n",
    "def increase_count(dict, key):\n",
    "    if key not in dict:\n",
    "        dict[key] = 1\n",
    "    else:\n",
    "        dict[key] += 1\n",
    "\n",
    "def exceed_gender_or_school(group, new_student):\n",
    "    schools = {}\n",
    "    genders = {}\n",
    "    #tally current genders and schools for each group\n",
    "    for existing_student in group:\n",
    "        #student[id, cgpa, gender, name, school, assigned, group number]\n",
    "        increase_count(schools, existing_student[4])\n",
    "        increase_count(genders, existing_student[2])\n",
    "    #add gender and school of new student\n",
    "    increase_count(schools, new_student[4])\n",
    "    increase_count(genders, new_student[2])\n",
    "    for school_count in schools.values():\n",
    "        if school_count > 2:\n",
    "            return True\n",
    "    for gender_count in genders.values():\n",
    "        if gender_count > 3:\n",
    "            return True\n",
    "    return False\n",
    "\n",
    "def sort_by_ascending_cgpa(to_sort, cgpa, output):\n",
    "    if output == []:\n",
    "        output.append(to_sort)\n",
    "        return\n",
    "        \n",
    "    #loop through each existing entry to find where to insert current entry based on cgpa\n",
    "    index = 0\n",
    "    for entry in output: \n",
    "        entry_cgpa = entry[1]\n",
    "        if cgpa > entry_cgpa:\n",
    "            #move right in list\n",
    "            index += 1\n",
    "            #at end of list\n",
    "            if index == len(output):\n",
    "                output.append(to_sort)\n",
    "                return\n",
    "            continue\n",
    "        elif cgpa <= entry_cgpa:\n",
    "            output.insert(index, to_sort)\n",
    "            return\n",
    "        \n",
    "#BELOW IS TO RUN AND ANALYSE\n",
    "\n",
    "from read_to_dict import read_to_dict\n",
    "import pprint\n",
    "\n",
    "student_data_dict = read_to_dict(\"records.csv\")\n",
    "\n",
    "successful = 0\n",
    "unsuccessful = 0\n",
    "half = 0\n",
    "stdevs = []\n",
    "final_data = []\n",
    "for tgnum in student_data_dict:\n",
    "    output = []\n",
    "    tutorial_group = student_data_dict[tgnum]\n",
    "    for id, data in tutorial_group.items():\n",
    "        student_data = [id, data['CGPA'], data['Gender'], data['Name'], data['School'], data['Assigned'], data['Group Number']]\n",
    "        cgpa = student_data[1]\n",
    "        sort_by_ascending_cgpa(student_data, cgpa, output)\n",
    "    groupz = (allocate_teams(output))\n",
    "    for group in groupz:\n",
    "        for student in group:\n",
    "            final_student_data = [tgnum, student[0],student[4],student[3],student[2],str(student[1]),str(student[6])] #“Tutorial Group”, “Student ID”, “School”, “Name”, “Gender”, “CGPA”, \"Team Assigned\"\n",
    "            final_data.append(final_student_data)\n",
    "    cgpas = []\n",
    "    \n",
    "    for group in groupz:\n",
    "        schoolpass = True\n",
    "        genderpass = True\n",
    "        cgpa = 0\n",
    "        schools = {}\n",
    "        genders = {}\n",
    "        \n",
    "        #tally current genders and schools for each group\n",
    "        for student in group:\n",
    "            cgpa += student[1]\n",
    "            #student[id, cgpa, gender, name, school, assigned, group number]\n",
    "            increase_count(schools, student[4])\n",
    "            increase_count(genders, student[2])\n",
    "        #add gender and school of new student\n",
    "        for school_count in schools.values():\n",
    "            if school_count > 2:\n",
    "                schoolpass = False\n",
    "        for gender_count in genders.values():\n",
    "            if gender_count > 3:\n",
    "                genderpass = False  \n",
    "        if not schoolpass and not genderpass:\n",
    "            unsuccessful += 1\n",
    "        elif not schoolpass:\n",
    "            half += 1\n",
    "        elif not genderpass:\n",
    "            half += 1\n",
    "        else:\n",
    "            successful += 1\n",
    "\n",
    "        cgpas.append(cgpa)\n",
    "\n",
    "\n",
    "    # Step 1: Compute the mean\n",
    "    mean = sum(cgpas) / 10\n",
    "\n",
    "    # Step 2: Calculate squared differences\n",
    "    squared_diffs = [(x - mean) ** 2 for x in cgpas]\n",
    "\n",
    "    # Step 3: Calculate variance\n",
    "    variance = sum(squared_diffs) / len(data)\n",
    "\n",
    "    # Step 4: Calculate standard deviation\n",
    "    stdev = variance ** 0.5\n",
    "    stdevs.append(stdev)\n",
    "        \n",
    "with open('new_records.csv','w') as f:\n",
    "    f.write('Tutorial Group,Student ID,School,Name,Gender,CGPA,Team Assigned\\n')\n",
    "    for i in final_data:\n",
    "        f.writelines(','.join(i))\n",
    "        f.write('\\n')\n",
    "            \n",
    "print(f\"{successful} are successful, {unsuccessful} are unsuccessful and {half} are half successful\")\n",
    "print(stdevs)\n",
    "labels = ['Successful', 'Half Successful', 'Not Successful']\n",
    "sizes = [successful,half,unsuccessful ]\n",
    "\n",
    "# Calculate percentages, ensuring they sum to exactly 100%\n",
    "total = sum(sizes)\n",
    "percentages = [size / total * 100 for size in sizes]\n",
    "percentages[-1] = 100 - sum(percentages[:-1])  # Adjust last percentage to ensure total is 100%\n",
    "\n",
    "\n",
    "# Create the formatted labels with percentages for the legend\n",
    "legend_labels = [f'{label}: {percentage:.1f}%' for label, percentage in zip(labels, percentages)]\n",
    "\n",
    "# Define explode, colors, and start angle\n",
    "explode = [0, 0.5, 1]  # \"Explode\" the first slice (Category A)\n",
    "colors = ['#99ff99', '#E1E100', '#ff9999']\n",
    "startangle = 140  # Rotate the chart so the first slice starts at 90 degrees\n",
    "\n",
    "# Plot the pie chart with explode, colors, and startangle\n",
    "fig, ax = plt.subplots()\n",
    "wedges, texts= ax.pie(sizes, labels=labels,explode=explode,colors=colors, startangle=startangle)\n",
    "\n",
    "\n",
    "# Add the legend with percentage labels\n",
    "ax.legend(wedges, legend_labels, title=\"Distribution of Success Cases\", loc=\"best\")\n",
    "plt.axis('equal')\n",
    "plt.show()\n",
    "\n",
    "averageSD= sum(stdevs)/len(stdevs)\n",
    "print(averageSD)\n",
    "averagegpa= sum(cgpas)/len(cgpas)"
   ]
  },
  {
   "cell_type": "code",
   "execution_count": null,
   "metadata": {},
   "outputs": [],
   "source": []
  }
 ],
 "metadata": {
  "colab": {
   "collapsed_sections": [
    "_jtz0bGLzOb_",
    "hI3Vl2Cazi5r",
    "szX9hH4U0JLH",
    "hCc0Wziyz3wW",
    "YRcNc50nf_VY",
    "RqdAo73JVt6S",
    "uhcQF_IVvU5Y",
    "c_i9N6mLg55r"
   ],
   "provenance": []
  },
  "kernelspec": {
   "display_name": "Python 3 (ipykernel)",
   "language": "python",
   "name": "python3"
  },
  "language_info": {
   "codemirror_mode": {
    "name": "ipython",
    "version": 3
   },
   "file_extension": ".py",
   "mimetype": "text/x-python",
   "name": "python",
   "nbconvert_exporter": "python",
   "pygments_lexer": "ipython3",
   "version": "3.12.5"
  }
 },
 "nbformat": 4,
 "nbformat_minor": 4
}
