{
  "nbformat": 4,
  "nbformat_minor": 0,
  "metadata": {
    "colab": {
      "provenance": [],
      "collapsed_sections": [
        "_jtz0bGLzOb_",
        "hI3Vl2Cazi5r",
        "szX9hH4U0JLH",
        "hCc0Wziyz3wW",
        "YRcNc50nf_VY",
        "RqdAo73JVt6S",
        "uhcQF_IVvU5Y",
        "c_i9N6mLg55r"
      ]
    },
    "kernelspec": {
      "name": "python3",
      "display_name": "Python 3"
    },
    "language_info": {
      "name": "python"
    }
  },
  "cells": [
    {
      "cell_type": "markdown",
      "source": [
        "#Step1:Define the functions we need."
      ],
      "metadata": {
        "id": "e3S3xxBmQBoi"
      }
    },
    {
      "cell_type": "markdown",
      "source": [
        "#### allocate_teams"
      ],
      "metadata": {
        "id": "09pyTOCEseuc"
      }
    },
    {
      "cell_type": "markdown",
      "source": [
        "This is the main function and it assign the students in each tutorial group into 10 lists trying to meet the requirements to the maximum extent"
      ],
      "metadata": {
        "id": "8dq3NWDfNDsi"
      }
    },
    {
      "cell_type": "markdown",
      "source": [
        "1. Initial setup\n",
        "\n",
        "`all_students`: a copy of `student_list`\n",
        "\n",
        "`remaining_students`: a copy of `student_list`. To track students that haven't been assigned to a group.\n",
        "`group_list`: initialize a nested list with 10 empty groups inside for future group assignment.\n",
        "\n",
        "\n",
        "2. Assign the first 4 students of each group.\n",
        "\n",
        "* the 1st and 3rd student:\n",
        "\n",
        " pick students with the highest cgpa, set index to -1,  pick from the end of the cgpa list.\n",
        "\n",
        "* the 2nd and 4th student:\n",
        "pick students with lowest cgpa, set index to 0, pick from the start of the cgpa list.\n",
        "\n",
        "3. Add student to each group\n",
        "\n",
        "Loop through the lists for every group in `group_list`, add current student to each group list.\n",
        "\n",
        "4. Check school and gender of current list\n",
        "\n",
        "If current list does not exceed gender and school threshold, add next student to the group.\n",
        "\n",
        "Otherwise, try to swap student with another group. However, if swapper cannot find any valid target to swap with, then proceed to assign the next student.\n",
        "\n",
        "5. Calculate the total cgpa of each current groups and store them with the group_num into group_cgpa.\n",
        "\n",
        "6. Sort groups by their `total_gpa` in ascending orderand store the\n",
        "groups in the listsort_output.\n",
        "\n",
        "7. Assign the student based on gpa e.g. lowest gpa group picks highest gpa student\n",
        "\n",
        "8. Check if the sutdent meets the gender or school requirement, if meets, assign student to the group whose index is group_num. If it dosen't meet, swap it using `swapper`.If `swapper` cannot find any valid target,just assign student. Finally return `group_list`.\n",
        "\n",
        "Now we get a list `group_list`, including 10 lists, each list include 5 student."
      ],
      "metadata": {
        "id": "BTB4RqWBw4H2"
      }
    },
    {
      "cell_type": "code",
      "source": [
        "def allocate_teams(student_list):\n",
        "    all_students = student_list[:]\n",
        "    remaining_students = student_list[:]\n",
        "    group_list = [[] for i in range(10)]\n",
        "    #assign 4 students to each group\n",
        "    for i in range(4):\n",
        "        #1st and 3rd pick take highest cgpa\n",
        "        if i % 2 == 0:\n",
        "            index = -1\n",
        "        #2nd and 4th pick take lowest cgpa\n",
        "        else:\n",
        "            index = 0\n",
        "\n",
        "        for group_num in range(len(group_list)):\n",
        "            next_student = remaining_students[index]\n",
        "            group = group_list[group_num]\n",
        "            if not exceed_gender_or_school(group, next_student):\n",
        "                assign_group(next_student, group_num, group, remaining_students)\n",
        "            else:\n",
        "                if swapper(next_student, all_students, remaining_students, group_list, group_num, group):\n",
        "                    pass\n",
        "                else:\n",
        "                    #if swapper cant find any valid target, just assign\n",
        "                    assign_group(next_student, group_num, group, remaining_students)\n",
        "\n",
        "\n",
        "    group_cgpa = []\n",
        "    for group_num in range(len(group_list)):\n",
        "        total_cgpa = 0\n",
        "        for student in group_list[group_num]:\n",
        "            total_cgpa += student[1]\n",
        "        group_cgpa.append([group_num, cgpa])\n",
        "\n",
        "    sorted_output = []\n",
        "    for group in group_cgpa:\n",
        "        sort_by_ascending_cgpa(group, group[1], sorted_output)\n",
        "    #sorted_output[[0, 16.4], [1, 16.5], [7, 16.7], ...]\n",
        "\n",
        "    #each group left 1 slot, assign based on gpa e.g. lowest gpa group picks highest gpa student\n",
        "    for i in range(len(sorted_output)):\n",
        "        group_num = sorted_output[i][0]\n",
        "        group = group_list[group_num]\n",
        "        student = remaining_students[-1]\n",
        "        if not exceed_gender_or_school(group, student):\n",
        "            assign_group(student, group_num, group, remaining_students)\n",
        "        else:\n",
        "            if swapper(student, all_students, remaining_students, group_list, group_num, group):\n",
        "                pass\n",
        "            else:\n",
        "                #if swapper cant find any valid target, just assign\n",
        "                assign_group(student, group_num, group, remaining_students)\n",
        "\n",
        "    return group_list"
      ],
      "metadata": {
        "id": "Mb-KiyyobgNd"
      },
      "execution_count": null,
      "outputs": []
    },
    {
      "cell_type": "markdown",
      "source": [
        "#### assign_group"
      ],
      "metadata": {
        "id": "_jtz0bGLzOb_"
      }
    },
    {
      "cell_type": "markdown",
      "source": [
        "This function is to assign student to the group and remove it from the remaining_students"
      ],
      "metadata": {
        "id": "7HdWL8mpzTms"
      }
    },
    {
      "cell_type": "markdown",
      "source": [
        "1.Change the group_num of the student into the current group_num and append the student to the group whose index is group_num."
      ],
      "metadata": {
        "id": "I3VnQk7CzZbX"
      }
    },
    {
      "cell_type": "markdown",
      "source": [
        "2.Remove the student from the remaining_students."
      ],
      "metadata": {
        "id": "hyOMXdo-zcOf"
      }
    },
    {
      "cell_type": "code",
      "source": [
        "def assign_group(student, group_num, group, remaining_students):\n",
        "    student[6] = group_num\n",
        "    student[5] = True\n",
        "    group.append(student)\n",
        "    if student in remaining_students:\n",
        "      remaining_students.remove(student)"
      ],
      "metadata": {
        "id": "hs7ytfomzaPW"
      },
      "execution_count": null,
      "outputs": []
    },
    {
      "cell_type": "markdown",
      "source": [
        "#### swap_validator"
      ],
      "metadata": {
        "id": "hI3Vl2Cazi5r"
      }
    },
    {
      "cell_type": "markdown",
      "source": [
        "This function supports the function `swapper()` . It is used to check if the try_student in the group can be replaced by student. If can ,the function will return True."
      ],
      "metadata": {
        "id": "lL4YefqXzpiX"
      }
    },
    {
      "cell_type": "markdown",
      "source": [
        "1.Check if the current group meets the requirement, if meets, return false."
      ],
      "metadata": {
        "id": "EBnhYgz7zr1W"
      }
    },
    {
      "cell_type": "markdown",
      "source": [
        "2.Firstly, check if the try_student is in a group. If is, copy the group of try_student and remove try_student. Then check if we replace try_student with student, whether it can meet the requirement. If meets, return True."
      ],
      "metadata": {
        "id": "07rzYv_2zvIf"
      }
    },
    {
      "cell_type": "markdown",
      "source": [
        "3.If try_student is not in a group, return True."
      ],
      "metadata": {
        "id": "9oOHlTGRzzPN"
      }
    },
    {
      "cell_type": "code",
      "source": [
        "def swap_validator(student, try_student, group_list, group):\n",
        "    if exceed_gender_or_school(group, try_student):\n",
        "        return False\n",
        "    if try_student[5]:\n",
        "        #create copy of try student group and remove try student to see\n",
        "        #if student will fit in try student group after swap\n",
        "        try_student_group_copy = group_list[try_student[6]][:]\n",
        "        try_student_group_copy.remove(try_student)\n",
        "        return not exceed_gender_or_school(try_student_group_copy, student)\n",
        "    else:\n",
        "        return True"
      ],
      "metadata": {
        "id": "6Qg35eYIztUi"
      },
      "execution_count": null,
      "outputs": []
    },
    {
      "cell_type": "markdown",
      "source": [
        "#### swapper"
      ],
      "metadata": {
        "id": "szX9hH4U0JLH"
      }
    },
    {
      "cell_type": "markdown",
      "source": [
        "This function is to swap student with the nearest gpa to meet the gender and school requirement."
      ],
      "metadata": {
        "id": "_dbC5dOE0Kz0"
      }
    },
    {
      "cell_type": "markdown",
      "source": [
        "1.Find the index of the student in the all_students list, initialize the parameters."
      ],
      "metadata": {
        "id": "DFA0vRhD0Pkv"
      }
    },
    {
      "cell_type": "markdown",
      "source": [
        "2.Loop through every students and check if there are still any more students of higher or lower gpa to check."
      ],
      "metadata": {
        "id": "9bj4FRm70SQo"
      }
    },
    {
      "cell_type": "markdown",
      "source": [
        "3.If there is a person whose gpa is higher than student, name this person try_student.Check if the student can be replaced by try_student.If can ,the swap_validator function will return True and we will assign True to swap. Then assign try_student to swap_student and break the loop."
      ],
      "metadata": {
        "id": "4TQzJejO0WG-"
      }
    },
    {
      "cell_type": "markdown",
      "source": [
        "4.If we cannot find a person with a higher gpa, we will check if there is someone with lower gpa. If there is ,simliarly ,we will name him try_student,check if student can be replaced by him .If can ,assign True to swap and assign try_student to swap_student and break the loop."
      ],
      "metadata": {
        "id": "g40Z53do0aLt"
      }
    },
    {
      "cell_type": "markdown",
      "source": [
        "5.If the person with the nearest gpa with student cannot meet the requirement, increase the index_up and index_down to find the person who meets the requirement and have a nearer gpa."
      ],
      "metadata": {
        "id": "adnWEc0k0eB0"
      }
    },
    {
      "cell_type": "markdown",
      "source": [
        "6.If we find someone ,swap the student and the swap_student from their own groups and return True. If we cannot find a person suitable, return False."
      ],
      "metadata": {
        "id": "4QECQhJ70hnp"
      }
    },
    {
      "cell_type": "code",
      "source": [
        "def swapper(student, all_students, remaining_students, group_list, group_num, group):\n",
        "    index = find_index(student, all_students)\n",
        "    swap = False\n",
        "    search_up, search_down = True, True\n",
        "    index_up, index_down = 1, 1\n",
        "    #loop through every student to check if can swap\n",
        "    while search_up == True or search_down == True:\n",
        "        #check if there are still any more students of higher/lower gpa to check\n",
        "        if index + index_up > len(all_students) - 1:\n",
        "            search_up = False\n",
        "        if index - index_down < 0:\n",
        "            search_down = False\n",
        "        if search_up == True:\n",
        "            try_student = all_students[index + index_up]\n",
        "            if swap_validator(student, try_student, group_list, group):\n",
        "                swap = True\n",
        "                swap_student = try_student\n",
        "                break\n",
        "        if search_down == True:\n",
        "            try_student = all_students[index - index_down]\n",
        "            if swap_validator(student, try_student, group_list, group):\n",
        "                swap = True\n",
        "                swap_student = try_student\n",
        "                break\n",
        "        index_up += 1\n",
        "        index_down += 1\n",
        "    if swap == True:\n",
        "        perform_swap(student, swap_student, remaining_students, group_num, group_list, group)\n",
        "        return True\n",
        "    else:\n",
        "        return False"
      ],
      "metadata": {
        "id": "tNfXliiQ0RYo"
      },
      "execution_count": null,
      "outputs": []
    },
    {
      "cell_type": "markdown",
      "source": [
        "#### perform_swap"
      ],
      "metadata": {
        "id": "hCc0Wziyz3wW"
      }
    },
    {
      "cell_type": "markdown",
      "source": [
        "This function is to swap student and swap_student from their own group."
      ],
      "metadata": {
        "id": "msXZIplnz7SV"
      }
    },
    {
      "cell_type": "markdown",
      "source": [
        "1.If the swap_student have already been assigned to a group,find his group and remove him from the group."
      ],
      "metadata": {
        "id": "QWNeoifDz9vO"
      }
    },
    {
      "cell_type": "markdown",
      "source": [
        "2.Then assign student to the group of swap_student and assign swap_student to the group whose index is group_num(the group which the student was supposed to be assigned to )"
      ],
      "metadata": {
        "id": "plmhr-aa0BTi"
      }
    },
    {
      "cell_type": "markdown",
      "source": [
        "3.If the swap_student haven't been assigned to a group, then just assign him to the gourp instead of student."
      ],
      "metadata": {
        "id": "Pl8guOSk0FGK"
      }
    },
    {
      "cell_type": "code",
      "source": [
        "def perform_swap(student, swap_student, remaining_students, group_num, group_list, group):\n",
        "    if swap_student[5] == True:\n",
        "        swap_student_group_num = swap_student[6]\n",
        "        swap_student_group = group_list[swap_student_group_num]\n",
        "        swap_student_group.remove(swap_student)\n",
        "        assign_group(student, swap_student_group_num, swap_student_group, remaining_students)\n",
        "        assign_group(swap_student, group_num, group, remaining_students)\n",
        "    else:\n",
        "        assign_group(swap_student, group_num, group, remaining_students)"
      ],
      "metadata": {
        "id": "xRdA92Otz_km"
      },
      "execution_count": null,
      "outputs": []
    },
    {
      "cell_type": "markdown",
      "source": [
        "#### find_index"
      ],
      "metadata": {
        "id": "YRcNc50nf_VY"
      }
    },
    {
      "cell_type": "markdown",
      "source": [
        "This function supports the `swapper()` function, it finds the position of the student in the student_list and returns the index."
      ],
      "metadata": {
        "id": "gXbSEVuggKv3"
      }
    },
    {
      "cell_type": "code",
      "source": [
        "def find_index(value, list):\n",
        "    for index in range(len(list)):\n",
        "        if list[index] == value:\n",
        "            return index"
      ],
      "metadata": {
        "id": "6qjw0ICGgBdR"
      },
      "execution_count": null,
      "outputs": []
    },
    {
      "cell_type": "markdown",
      "source": [
        "#### increase_count"
      ],
      "metadata": {
        "id": "RqdAo73JVt6S"
      }
    },
    {
      "cell_type": "markdown",
      "source": [
        "This function supports the `exceed_gender_or_school()` function, it checks if the argument `key`(i.e. The school/gender of the student) is in the argument `dict`(The `schools`, `genders` dictionaries).\n",
        "\n",
        "If the school of the student:\n",
        "1.   already exists in the dictionary `schools`: add 1 to the value of the key(e.g.\"CCDS\").\n",
        "2.   is not in the dictionary `schools`: append a item with the school name as key and set the value to 1.\n",
        "\n",
        "It works the same for gender."
      ],
      "metadata": {
        "id": "E7kFFbcleGsY"
      }
    },
    {
      "cell_type": "code",
      "source": [
        "def increase_count(dict, key):\n",
        "    if key not in dict:\n",
        "        dict[key] = 1\n",
        "    else:\n",
        "        dict[key] += 1"
      ],
      "metadata": {
        "id": "-OtkTGVhVyZE"
      },
      "execution_count": null,
      "outputs": []
    },
    {
      "cell_type": "markdown",
      "source": [
        "#### exceed_gender_or_school\n"
      ],
      "metadata": {
        "id": "uhcQF_IVvU5Y"
      }
    },
    {
      "cell_type": "markdown",
      "source": [
        "check if the current group allocation have exceed gender or school. If there are more than 2 people from the same school, or more than 3 people of the same gender, return True."
      ],
      "metadata": {
        "id": "ABE6k0wovU5Z"
      }
    },
    {
      "cell_type": "markdown",
      "source": [
        "1. define function with group and new_student as input. Create two empty dictionaries for school and gender to keep track of the count."
      ],
      "metadata": {
        "id": "1CZw6yxsvU5Z"
      }
    },
    {
      "cell_type": "markdown",
      "source": [
        "2. loop through all existing students in current group, examine the school and gender of the student. If the school/gender is already in the dictionaries, add 1 to the value of the key."
      ],
      "metadata": {
        "id": "JBfs3KI3vU5Z"
      }
    },
    {
      "cell_type": "markdown",
      "source": [
        "3. examine the school and gender  attribute of the new student, add 1 to the value of key in the dicitonary if it already exist in the current group.\n"
      ],
      "metadata": {
        "id": "DvDgtc5lvU5a"
      }
    },
    {
      "cell_type": "markdown",
      "source": [
        "4. check the final dictionary for school and gender, return True if there are more than 2 students from the same school or more than 3 students are the same gender."
      ],
      "metadata": {
        "id": "wWoYj6xYvU5a"
      }
    },
    {
      "cell_type": "code",
      "source": [
        "def exceed_gender_or_school(group, new_student):\n",
        "    schools = {}\n",
        "    genders = {}\n",
        "    #tally current genders and schools for each group\n",
        "    for existing_student in group:\n",
        "        #student[id, cgpa, gender, name, school, assigned, group number]\n",
        "        increase_count(schools, existing_student[4])\n",
        "        increase_count(genders, existing_student[2])\n",
        "    #add gender and school of new student\n",
        "    increase_count(schools, new_student[4])\n",
        "    increase_count(genders, new_student[2])\n",
        "    for school_count in schools.values():\n",
        "        if school_count > 2:\n",
        "            return True\n",
        "    for gender_count in genders.values():\n",
        "        if gender_count > 3:\n",
        "            return True\n",
        "    return False"
      ],
      "metadata": {
        "id": "R-8bWWYwvU5Z"
      },
      "execution_count": null,
      "outputs": []
    },
    {
      "cell_type": "markdown",
      "source": [
        "#### sort_by_ascending_cgpa"
      ],
      "metadata": {
        "id": "c_i9N6mLg55r"
      }
    },
    {
      "cell_type": "markdown",
      "source": [
        "This function supports the main function `allocate_teams()`. It sorts all groups in the list `group_cgpa` by their `total_cgpa` in ascending order and store the groups in the list `sorted_output`."
      ],
      "metadata": {
        "id": "G5Cb2Mueiq-n"
      }
    },
    {
      "cell_type": "markdown",
      "source": [
        "1. define the function.\n",
        "\n",
        "Mapping to main function `allocate_teams()`:\n",
        "\n",
        "\n",
        "*   `to_sort` -> `group` (e.g. [0, 16.4])\n",
        "*   `cgpa` -> `group[1]` (e.g. 16.4)\n",
        "*   `output` -> `sorted_output`(e.g. [[0, 16.4]])\n",
        "\n",
        "If output is empty, add current group to the output list."
      ],
      "metadata": {
        "id": "6_c-RaHzpfSq"
      }
    },
    {
      "cell_type": "markdown",
      "source": [
        "loop through existing output list, find wherer to insert current entry based on cgpa.\n",
        "\n",
        "Let current entry(cgpa) move right in the list until it is less than or equal to another group's cgpa."
      ],
      "metadata": {
        "id": "4_afugbzrPgj"
      }
    },
    {
      "cell_type": "code",
      "source": [
        "def sort_by_ascending_cgpa(to_sort, cgpa, output):\n",
        "    if output == []:\n",
        "        output.append(to_sort)\n",
        "        return\n",
        "#loop through each existing entry to find where to insert current entry based on cgpa\n",
        "    index = 0\n",
        "    for entry in output:\n",
        "        entry_cgpa = entry[1]\n",
        "        if cgpa > entry_cgpa:\n",
        "            #move right in list\n",
        "            index += 1\n",
        "            #at end of list\n",
        "            if index == len(output):\n",
        "                output.append(to_sort)\n",
        "                return\n",
        "            continue\n",
        "        elif cgpa <= entry_cgpa:\n",
        "            output.insert(index, to_sort)\n",
        "            return"
      ],
      "metadata": {
        "id": "IxBkOjpyhAwM"
      },
      "execution_count": null,
      "outputs": []
    }
  ]
}