{
 "cells": [
  {
   "cell_type": "markdown",
   "metadata": {
    "id": "VPP1JnQ-Y6mc",
    "jp-MarkdownHeadingCollapsed": true
   },
   "source": [
    "# Problem decomposition and Computational thinking\n",
    "#### Problem decomposition :\n",
    "To create the program, we have to first split the problem into smaller parts:\n",
    "1. Read and store data from records.csv\n",
    "2. Sort each tutorial group into 10 teams\n",
    "3. Write the data into a new csv\n",
    "#### Abstraction :\n",
    "We used functions to make the process flow easier to follow and reduce complexity.\n",
    "#### Pattern recognition :\n",
    "We recognised that each tutorial group has the same number of students, so we could write an algorithm to allocate teams for a specific tutorial group, and repeat it for every tutorial group.\n",
    "#### Algorithm design :\n",
    "Considerations for each team:\n",
    "1. School Affiliation - maximum 2 students from same school\n",
    "2. Gender - maximum 3 students of same gender\n",
    "3. Current CGPA - try to put highest gpa with lowest gpa, 2nd highest with 2nd lowest, etc..."
   ]
  },
  {
   "cell_type": "markdown",
   "metadata": {},
   "source": [
    "# Pseudocode for allocate_teams\n"
   ]
  },
  {
   "cell_type": "markdown",
   "metadata": {
    "id": "e3S3xxBmQBoi"
   },
   "source": [
    "# Step1:Define the functions we need."
   ]
  },
  {
   "cell_type": "markdown",
   "metadata": {
    "id": "09pyTOCEseuc"
   },
   "source": [
    "#### allocate_teams"
   ]
  },
  {
   "cell_type": "markdown",
   "metadata": {
    "id": "8dq3NWDfNDsi"
   },
   "source": [
    "This is the main function and it allocate the students in each tutorial group into 10 lists trying to meet the requirements to the maximum extent"
   ]
  },
  {
   "cell_type": "code",
   "execution_count": 1,
   "metadata": {
    "id": "Mb-KiyyobgNd"
   },
   "outputs": [],
   "source": [
    "# 1. Initial setup\n",
    "# all_students: a copy of student_list\n",
    "# remaining_students: a copy of student_list. To track students that haven't been assigned to a group.\n",
    "# group_list: initialize a nested list with 10 empty groups inside for future group assignment.\n",
    "\n",
    "\n",
    "def allocate_teams(student_list):\n",
    "    all_students = student_list[:]\n",
    "    remaining_students = student_list[:]\n",
    "    group_list = [[] for i in range(10)]\n",
    "\n",
    "\n",
    "# 2. Assign the first 4 students of each group.\n",
    "# the 1st and 3rd student: pick students with the highest cgpa, set index to -1, pick from the end of the cgpa list.\n",
    "# the 2nd and 4th student: pick students with lowest cgpa, set index to 0, pick from the start of the cgpa list.\n",
    "\n",
    "    #assign 4 students to each group\n",
    "    for i in range(4):\n",
    "        #1st and 3rd pick take highest cgpa\n",
    "        if i % 2 == 0:\n",
    "            index = -1\n",
    "        #2nd and 4th pick take lowest cgpa\n",
    "        else:\n",
    "            index = 0\n",
    "\n",
    "# 3. Add student to each group\n",
    "# Loop through the lists for every group in `group_list`, add current student to each group list.\n",
    "# 4. Check school and gender of current list\n",
    "# If current list does not exceed gender and school threshold, add next student to the group.\n",
    "# Otherwise, try to swap student with another group. However, if swapper cannot find any valid target to swap with, then proceed to assign the next student.\n",
    "\n",
    "        for group_num in range(len(group_list)):\n",
    "            next_student = remaining_students[index]\n",
    "            group = group_list[group_num]\n",
    "            if not exceed_gender_or_school(group, next_student):\n",
    "                assign_group(next_student, group_num, group, remaining_students)\n",
    "            else:\n",
    "                if swapper(next_student, all_students, remaining_students, group_list, group_num, group):\n",
    "                    pass\n",
    "                else:\n",
    "                    #if swapper cant find any valid target, just assign\n",
    "                    assign_group(next_student, group_num, group, remaining_students)\n",
    "\n",
    "\n",
    "# 5. Calculate the total cgpa of each current groups and store them with the group_num into group_cgpa.\n",
    "    group_cgpa = []\n",
    "    for group_num in range(len(group_list)):\n",
    "        total_cgpa = 0\n",
    "        for student in group_list[group_num]:\n",
    "            total_cgpa += student[1]\n",
    "        group_cgpa.append([group_num, cgpa])\n",
    "\n",
    "# 6. Sort groups by their `total_gpa` in ascending orderand store the groups in the list sort_output.\n",
    "    sorted_output = []\n",
    "    for group in group_cgpa:\n",
    "        sort_by_ascending_cgpa(group, group[1], sorted_output)\n",
    "    #sorted_output[[0, 16.4], [1, 16.5], [7, 16.7], ...]\n",
    "\n",
    "    #each group left 1 slot, assign based on gpa e.g. lowest gpa group picks highest gpa student\n",
    "# 7. Assign the student based on gpa e.g. lowest gpa group picks highest gpa student\n",
    "# 8. Check if the sutdent meets the gender or school requirement, if meets, assign student to the group whose index is group_num. If it dosen't meet, swap it using `swapper`.If `swapper` cannot find any valid target,just assign student. Finally return `group_list`.\n",
    "    for i in range(len(sorted_output)):\n",
    "        group_num = sorted_output[i][0]\n",
    "        group = group_list[group_num]\n",
    "        student = remaining_students[-1]\n",
    "        if not exceed_gender_or_school(group, student):\n",
    "            assign_group(student, group_num, group, remaining_students)\n",
    "        else:\n",
    "            if swapper(student, all_students, remaining_students, group_list, group_num, group):\n",
    "                pass\n",
    "            else:\n",
    "                #if swapper cant find any valid target, just assign\n",
    "                assign_group(student, group_num, group, remaining_students)\n",
    "    return group_list\n",
    "\n",
    "# Now we get a list `group_list`, including 10 lists, each list include 5 student.\n"
   ]
  },
  {
   "cell_type": "markdown",
   "metadata": {
    "id": "_jtz0bGLzOb_"
   },
   "source": [
    "#### assign_group"
   ]
  },
  {
   "cell_type": "markdown",
   "metadata": {
    "id": "7HdWL8mpzTms"
   },
   "source": [
    "This function is to assign student to the group and remove it from the remaining_students"
   ]
  },
  {
   "cell_type": "code",
   "execution_count": 2,
   "metadata": {
    "id": "hs7ytfomzaPW"
   },
   "outputs": [],
   "source": [
    "def assign_group(student, group_num, group, remaining_students):\n",
    "    # 1.Change the group_num of the student into the current group_num and append the student to the group whose index is group_num.\n",
    "    student[6] = group_num\n",
    "    student[5] = True\n",
    "    group.append(student)\n",
    "    if student in remaining_students:\n",
    "      # 2.Remove the student from the remaining_students.\n",
    "      remaining_students.remove(student)"
   ]
  },
  {
   "cell_type": "markdown",
   "metadata": {
    "id": "hI3Vl2Cazi5r"
   },
   "source": [
    "#### swap_validator"
   ]
  },
  {
   "cell_type": "markdown",
   "metadata": {
    "id": "lL4YefqXzpiX"
   },
   "source": [
    "This function supports the function `swapper()` . It is used to check if the try_student in the group can be replaced by student. If can ,the function will return True."
   ]
  },
  {
   "cell_type": "code",
   "execution_count": 3,
   "metadata": {
    "id": "6Qg35eYIztUi"
   },
   "outputs": [],
   "source": [
    "#1.Check if the current group meets the requirement, if meets, return false.\n",
    "def swap_validator(student, try_student, group_list, group):\n",
    "    if exceed_gender_or_school(group, try_student):\n",
    "        return False\n",
    "\n",
    "#2.Firstly, check if the try_student is in a group. If is, copy the group of try_student and remove try_student.\n",
    "# Then check if we replace try_student with student, whether it can meet the requirement. If meets, return True.\n",
    "    if try_student[5]:\n",
    "        try_student_group_copy = group_list[try_student[6]][:]\n",
    "        try_student_group_copy.remove(try_student)\n",
    "        return not exceed_gender_or_school(try_student_group_copy, student)\n",
    "\n",
    "#3.If try_student is not in a group, return True.\n",
    "    else:\n",
    "        return True"
   ]
  },
  {
   "cell_type": "markdown",
   "metadata": {
    "id": "szX9hH4U0JLH"
   },
   "source": [
    "#### swapper"
   ]
  },
  {
   "cell_type": "markdown",
   "metadata": {
    "id": "_dbC5dOE0Kz0"
   },
   "source": [
    "This function is to swap student with the nearest gpa to meet the gender and school requirement."
   ]
  },
  {
   "cell_type": "code",
   "execution_count": 4,
   "metadata": {
    "id": "tNfXliiQ0RYo"
   },
   "outputs": [],
   "source": [
    "#1.Find the index of the student in the all_students list, initialize the parameters.\n",
    "def swapper(student, all_students, remaining_students, group_list, group_num, group):\n",
    "    index = find_index(student, all_students)\n",
    "    swap = False\n",
    "    search_up, search_down = True, True\n",
    "    index_up, index_down = 1, 1\n",
    "\n",
    "#2.Loop through every students and check if there are still any more students of higher or lower gpa to check.\n",
    "    while search_up == True or search_down == True:\n",
    "        #check if there are still any more students of higher/lower gpa to check\n",
    "        if index + index_up > len(all_students) - 1:\n",
    "            search_up = False\n",
    "        if index - index_down < 0:\n",
    "            search_down = False\n",
    "\n",
    "#3.If there is a person whose gpa is higher than student, name this person try_student.\n",
    "#  Check if the student can be replaced by try_student.If can ,the swap_validator function will return True and we will assign True to swap.\n",
    "#  Then assign try_student to swap_student and break the loop.\n",
    "        if search_up == True:\n",
    "            try_student = all_students[index + index_up]\n",
    "            if swap_validator(student, try_student, group_list, group):\n",
    "                swap = True\n",
    "                swap_student = try_student\n",
    "                break\n",
    "\n",
    "#4.If we cannot find a person with a higher gpa, we will check if there is someone with lower gpa.\n",
    "# If there is ,simliarly ,we will name him try_student,check if student can be replaced by him .\n",
    "# If can ,assign True to swap and assign try_student to swap_student and break the loop.\n",
    "        if search_down == True:\n",
    "            try_student = all_students[index - index_down]\n",
    "            if swap_validator(student, try_student, group_list, group):\n",
    "                swap = True\n",
    "                swap_student = try_student\n",
    "                break\n",
    "\n",
    "#5.If the person with the nearest gpa with student cannot meet the requirement,\n",
    "# increase the index_up and index_down to find the person who meets the requirement and have a nearer gpa.\n",
    "        index_up += 1\n",
    "        index_down += 1\n",
    "\n",
    "#6.If we find someone ,swap the student and the swap_student from their own groups and return True.\n",
    "#  If we cannot find a person suitable, return False.\n",
    "    if swap == True:\n",
    "        perform_swap(student, swap_student, remaining_students, group_num, group_list, group)\n",
    "        return True\n",
    "    else:\n",
    "        return False"
   ]
  },
  {
   "cell_type": "markdown",
   "metadata": {
    "id": "hCc0Wziyz3wW"
   },
   "source": [
    "#### perform_swap"
   ]
  },
  {
   "cell_type": "markdown",
   "metadata": {
    "id": "msXZIplnz7SV"
   },
   "source": [
    "This function is to swap student and swap_student from their own group."
   ]
  },
  {
   "cell_type": "code",
   "execution_count": 5,
   "metadata": {
    "id": "xRdA92Otz_km"
   },
   "outputs": [],
   "source": [
    "#1.If the swap_student have already been assigned to a group,find his group and remove him from the group.\n",
    "def perform_swap(student, swap_student, remaining_students, group_num, group_list, group):\n",
    "    if swap_student[5] == True:\n",
    "        swap_student_group_num = swap_student[6]\n",
    "        swap_student_group = group_list[swap_student_group_num]\n",
    "        swap_student_group.remove(swap_student)\n",
    "\n",
    "#2.Then assign student to the group of swap_student and assign swap_student to the group whose index is group_num\n",
    " #i.e.the group which the student was supposed to be assigned to\n",
    "        assign_group(student, swap_student_group_num, swap_student_group, remaining_students)\n",
    "        assign_group(swap_student, group_num, group, remaining_students)\n",
    "\n",
    "#3.If the swap_student haven't been assigned to a group, then just assign him to the gourp instead of student.\n",
    "    else:\n",
    "        assign_group(swap_student, group_num, group, remaining_students)"
   ]
  },
  {
   "cell_type": "markdown",
   "metadata": {
    "id": "YRcNc50nf_VY"
   },
   "source": [
    "#### find_index"
   ]
  },
  {
   "cell_type": "markdown",
   "metadata": {
    "id": "gXbSEVuggKv3"
   },
   "source": [
    "This function supports the `swapper()` function, it finds the position of the student in the student_list and returns the index."
   ]
  },
  {
   "cell_type": "code",
   "execution_count": 6,
   "metadata": {
    "id": "6qjw0ICGgBdR"
   },
   "outputs": [],
   "source": [
    "def find_index(value, list):\n",
    "    for index in range(len(list)):\n",
    "        if list[index] == value:\n",
    "            return index"
   ]
  },
  {
   "cell_type": "markdown",
   "metadata": {
    "id": "RqdAo73JVt6S"
   },
   "source": [
    "#### increase_count"
   ]
  },
  {
   "cell_type": "markdown",
   "metadata": {
    "id": "_yH7wH6aBrM9"
   },
   "source": [
    "This function supports the `exceed_gender_or_school()` function, it checks if the argument `key`(i.e. The school/gender of the student) is in the argument `dict`(The `schools`, `genders` dictionaries).\n",
    "\n",
    "If the school of the student:\n",
    "1.   already exists in the dictionary `schools`: add 1 to the value of the key(e.g.\"CCDS\").\n",
    "2.   is not in the dictionary `schools`: append a item with the school name as key and set the value to 1.\n",
    "\n",
    "It works the same for gender."
   ]
  },
  {
   "cell_type": "code",
   "execution_count": 7,
   "metadata": {
    "id": "-OtkTGVhVyZE"
   },
   "outputs": [],
   "source": [
    "def increase_count(dict, key):\n",
    "    if key not in dict:\n",
    "        dict[key] = 1\n",
    "    else:\n",
    "        dict[key] += 1"
   ]
  },
  {
   "cell_type": "markdown",
   "metadata": {
    "id": "uhcQF_IVvU5Y"
   },
   "source": [
    "#### exceed_gender_or_school\n"
   ]
  },
  {
   "cell_type": "markdown",
   "metadata": {
    "id": "ABE6k0wovU5Z"
   },
   "source": [
    "check if the current group allocation have exceed gender or school. If there are more than 2 people from the same school, or more than 3 people of the same gender, return True."
   ]
  },
  {
   "cell_type": "markdown",
   "metadata": {
    "id": "DvDgtc5lvU5a"
   },
   "source": [
    "\n",
    "3. examine the school and gender  attribute of the new student, add 1 to the value of key in the dicitonary if it already exist in the current group.\n"
   ]
  },
  {
   "cell_type": "markdown",
   "metadata": {
    "id": "wWoYj6xYvU5a"
   },
   "source": [
    "4. check the final dictionary for school and gender, return True if there are more than 2 students from the same school or more than 3 students are the same gender."
   ]
  },
  {
   "cell_type": "code",
   "execution_count": 8,
   "metadata": {
    "id": "R-8bWWYwvU5Z"
   },
   "outputs": [],
   "source": [
    "# 1. define function with group and new_student as input.\n",
    "# Create two empty dictionaries for school and gender to keep track of the count.\n",
    "def exceed_gender_or_school(group, new_student):\n",
    "    schools = {}\n",
    "    genders = {}\n",
    "    # 2. loop through all existing students in current group, examine the school and gender of the student.\n",
    "    # If the school/gender is already in the dictionaries, add 1 to the value of the key.\n",
    "    for existing_student in group:\n",
    "        #student[id, cgpa, gender, name, school, assigned, group number]\n",
    "        increase_count(schools, existing_student[4])\n",
    "        increase_count(genders, existing_student[2])\n",
    "    #add gender and school of new student\n",
    "    increase_count(schools, new_student[4])\n",
    "    increase_count(genders, new_student[2])\n",
    "    for school_count in schools.values():\n",
    "        if school_count > 2:\n",
    "            return True\n",
    "    for gender_count in genders.values():\n",
    "        if gender_count > 3:\n",
    "            return True\n",
    "    return False"
   ]
  },
  {
   "cell_type": "markdown",
   "metadata": {
    "id": "lezUOyulrH9w"
   },
   "source": [
    "#### read_to_dict"
   ]
  },
  {
   "cell_type": "code",
   "execution_count": 9,
   "metadata": {
    "id": "sspG6BOFrR6Y"
   },
   "outputs": [],
   "source": [
    "def read_to_dict(file_path):\n",
    "\n",
    "    data = []\n",
    "\n",
    "    with open(file_path, mode='r', encoding='utf-8') as file:\n",
    "        lines = file.readlines()\n",
    "        for line in lines[1:]:\n",
    "            values = line.strip().split(',')\n",
    "\n",
    "            student_data = {\n",
    "                'Tutorial Group': values[0],\n",
    "                'Student ID': values[1],\n",
    "                'Name': values[3],\n",
    "                'School': values[2],\n",
    "                'Gender': values[4],\n",
    "                'CGPA': float(values[5]),\n",
    "                'Assigned': False,\n",
    "                'Group Number': -1\n",
    "            }\n",
    "\n",
    "            data.append(student_data)\n",
    "\n",
    "    # Dictionary to store the output\n",
    "    output_dict = {}\n",
    "\n",
    "    # creating the dictionary\n",
    "    for record in data:\n",
    "        tutorial_group = record['Tutorial Group']\n",
    "        student_id = record['Student ID']\n",
    "\n",
    "        # create dictionary for each tutorial group\n",
    "        if tutorial_group not in output_dict:\n",
    "            output_dict[tutorial_group] = {}\n",
    "\n",
    "        # Add student data to the dictionary\n",
    "        output_dict[tutorial_group][student_id] = {\n",
    "            'Name': record['Name'],\n",
    "            'School': record['School'],\n",
    "            'Gender': record['Gender'],\n",
    "            'CGPA': record['CGPA'],\n",
    "            'Assigned': record['Assigned'],\n",
    "            'Group Number': record['Group Number']\n",
    "        }\n",
    "\n",
    "\n",
    "    return output_dict"
   ]
  },
  {
   "cell_type": "markdown",
   "metadata": {
    "id": "c_i9N6mLg55r"
   },
   "source": [
    "#### sort_by_ascending_cgpa\n",
    "\n"
   ]
  },
  {
   "cell_type": "markdown",
   "metadata": {
    "id": "G5Cb2Mueiq-n"
   },
   "source": [
    "This function supports the main function `allocate_teams()`. It sorts all groups in the list `group_cgpa` by their `total_cgpa` in ascending order and store the groups in the list `sorted_output`."
   ]
  },
  {
   "cell_type": "markdown",
   "metadata": {
    "id": "6_c-RaHzpfSq"
   },
   "source": [
    "1. define the function.\n",
    "\n",
    "Mapping to main function `allocate_teams()`:\n",
    "\n",
    "\n",
    "*   `to_sort` -> `group` (e.g. [0, 16.4])\n",
    "*   `cgpa` -> `group[1]` (e.g. 16.4)\n",
    "*   `output` -> `sorted_output`(e.g. [[0, 16.4]])\n",
    "\n",
    "If output is empty, add current group to the output list."
   ]
  },
  {
   "cell_type": "code",
   "execution_count": 10,
   "metadata": {
    "id": "IxBkOjpyhAwM"
   },
   "outputs": [],
   "source": [
    "def sort_by_ascending_cgpa(to_sort, cgpa, output):\n",
    "    if output == []:\n",
    "        output.append(to_sort)\n",
    "        return\n",
    "#loop through each existing entry to find where to insert current entry based on cgpa\n",
    "# Let current entry(cgpa) move right in the list until it is less than or equal to another group's cgpa.\n",
    "    index = 0\n",
    "    for entry in output:\n",
    "        entry_cgpa = entry[1]\n",
    "        if cgpa > entry_cgpa:\n",
    "            #move right in list\n",
    "            index += 1\n",
    "            #at end of list\n",
    "            if index == len(output):\n",
    "                output.append(to_sort)\n",
    "                return\n",
    "            continue\n",
    "        elif cgpa <= entry_cgpa:\n",
    "            output.insert(index, to_sort)\n",
    "            return"
   ]
  },
  {
   "cell_type": "markdown",
   "metadata": {
    "id": "ZTluWICfrnp6"
   },
   "source": [
    "# Step 2: Assign the students into different groups, get the data for analysis and write groups into csv file."
   ]
  },
  {
   "cell_type": "markdown",
   "metadata": {
    "id": "anifYvGIrp4P"
   },
   "source": [
    "This is the main code and we will use the functions defined above."
   ]
  },
  {
   "cell_type": "markdown",
   "metadata": {
    "id": "xmiCOYlk5Wy1"
   },
   "source": [
    "#### 1. Read file and store the information into a dictionary."
   ]
  },
  {
   "cell_type": "code",
   "execution_count": 11,
   "metadata": {
    "id": "wufpmvyu5btE"
   },
   "outputs": [],
   "source": [
    "student_data_dict = read_to_dict(\"records.csv\")\n",
    "\n",
    "#student_data_dict={tutorial_gruup:{id:{'Gender': x,\n",
    "#                                       'School': x,\n",
    "#                                       'Gender': x,\n",
    "#                                       'CGPA': x,\n",
    "#                                       'Assigned': False,\n",
    "#                                       'Group Number': -1},\n",
    "#                                   id2:{...},\n",
    "#                                   ...\n",
    "#                                   }\n",
    "#                   tutorial_group2:{...}\n",
    "#                   ...\n",
    "#                   }"
   ]
  },
  {
   "cell_type": "markdown",
   "metadata": {
    "id": "OpPQva2W5eUQ"
   },
   "source": [
    "#### 2. Initialize required variables\n",
    "`successful` keeps track of the number of groups that meet the requirement of maxmimum 3 of one gender and maximum 2 of one group <br>\n",
    "`unsuccessful`keeps track of the number of groups that do not mmeet **both** requirements <br>\n",
    "`half` keeps track of the number of groups that does meets **only one** requirement and does not meet the other <br>\n",
    "`stdev` is a list that will eventually store the standard deviations of each tutorial group <br>\n",
    "`final_data` is a list that will eventually store the student data that will be written into a new file"
   ]
  },
  {
   "cell_type": "code",
   "execution_count": 12,
   "metadata": {
    "id": "wLxaMPF15i54"
   },
   "outputs": [],
   "source": [
    "successful = 0\n",
    "unsuccessful = 0\n",
    "half = 0\n",
    "stdevs = []\n",
    "final_data = []"
   ]
  },
  {
   "cell_type": "code",
   "execution_count": 13,
   "metadata": {
    "id": "gk1ESOk_rylp"
   },
   "outputs": [],
   "source": [
    "\n",
    "#3.Create the list `student_data` to stores each student's information.\n",
    "# Assign student's cgpa to cgpa and sort the students by their cgpa in ascending order and store the student_data into a new list\n",
    "for tgnum in student_data_dict:\n",
    "    sorted_student_data = []\n",
    "    tutorial_group = student_data_dict[tgnum]\n",
    "    for id, data in tutorial_group.items():\n",
    "        student_data = [id, data['CGPA'], data['Gender'], data['Name'], data['School'], data['Assigned'], data['Group Number']]\n",
    "        cgpa = student_data[1]\n",
    "        sort_by_ascending_cgpa(student_data, cgpa, sorted_student_data)\n",
    "\n",
    "#4.Allocate the students from the list `output` into 10 lists stored in a list `groupz`.\n",
    "    grouped_student_data = (allocate_teams(sorted_student_data))\n",
    "#grouped_student_data=[[[student_id,cgpa,gender,name,school,assigned,group number],[...],[...],[...],[...]],...]\n",
    "\n",
    "#5.Rearrange the order of the student data and store them into list `final_data`.\n",
    "    for group in grouped_student_data:\n",
    "        for student in group:\n",
    "            final_student_data = [tgnum, student[0],student[4],student[3],student[2],str(student[1]),str(student[6])]\n",
    "#                                Tutorial Group,Student ID ,School, Name, Gender, CGPA, Team Assigned\n",
    "            final_data.append(final_student_data)\n",
    "\n",
    "#6.Initialize the parameters\n",
    "    cgpas = []\n",
    "\n",
    "    for group in grouped_student_data:\n",
    "        schoolpass = True\n",
    "        genderpass = True\n",
    "        cgpa = 0       #stores the cumulative cgpa of each group\n",
    "        schools = {}\n",
    "        genders = {}   #dictionatires to keep track of the number of genders and schools in each group\n",
    "\n",
    "#7.Tally current genders and schools for each group\n",
    "        for student in group:\n",
    "            cgpa += student[1]\n",
    "            #student=[id, cgpa, gender, name, school, assigned, group number]\n",
    "            increase_count(schools, student[4])\n",
    "            increase_count(genders, student[2])\n",
    "\n",
    "#8.Check if there is the situation that school or gender doesn't meet the reqirement.\n",
    "        for school_count in schools.values():\n",
    "            if school_count > 2:\n",
    "                schoolpass = False\n",
    "        for gender_count in genders.values():\n",
    "            if gender_count > 3:\n",
    "                genderpass = False\n",
    "\n",
    "#9.Define meeting two requirements as successful,only meeting one as half,not meeting both reqirements as unsuccessful.\n",
    "#Calculate the number of each situation.\n",
    "        if not schoolpass and not genderpass:\n",
    "            unsuccessful += 1\n",
    "        elif not schoolpass:\n",
    "            half += 1\n",
    "        elif not genderpass:\n",
    "            half += 1\n",
    "        else:\n",
    "            successful += 1\n",
    "\n",
    "#10.Append each group's total gpa to list`cgpas`.\n",
    "        cgpas.append(cgpa)\n",
    "\n",
    "#11.Compute the mean which is the average of each group's total gpa.\n",
    "    mean = sum(cgpas) / 10\n",
    "\n",
    "#12.Calculate squared differences.\n",
    "    squared_diffs = [(x - mean) ** 2 for x in cgpas]\n",
    "\n",
    "#13.Calculate variance\n",
    "    variance = sum(squared_diffs) / len(data)\n",
    "\n",
    "#14.Calculate standard deviation of cgpas for the groups in the tutorial group\n",
    "    stdev = variance ** 0.5\n",
    "    stdevs.append(stdev)\n",
    "#now we get stdevs which is a list including 120 standard deviations of the 120 tutorial groups."
   ]
  },
  {
   "cell_type": "markdown",
   "metadata": {
    "id": "iNMw58N852xo"
   },
   "source": [
    "#### 15. Print the number of groups which were successful, unsuccessful and half successful in meeting the requirements"
   ]
  },
  {
   "cell_type": "code",
   "execution_count": 14,
   "metadata": {
    "colab": {
     "base_uri": "https://localhost:8080/"
    },
    "id": "AElYQfpI53PQ",
    "outputId": "dabe3048-7ed5-48ce-bafe-c4b224b1500f"
   },
   "outputs": [
    {
     "name": "stdout",
     "output_type": "stream",
     "text": [
      "1174 are successful, 0 are unsuccessful and 26 are half successful\n"
     ]
    }
   ],
   "source": [
    "print(f\"{successful} are successful, {unsuccessful} are unsuccessful and {half} are half successful\")\n",
    "#print(stdevs)"
   ]
  },
  {
   "cell_type": "markdown",
   "metadata": {
    "id": "IAb9F9R953fR"
   },
   "source": [
    "#### 16. Write the data in a new file"
   ]
  },
  {
   "cell_type": "code",
   "execution_count": 15,
   "metadata": {
    "id": "3HmjM3HV53rq"
   },
   "outputs": [],
   "source": [
    "with open('new_records.csv','w') as f:\n",
    "    f.write('Tutorial Group,Student ID,School,Name,Gender,CGPA,Team Assigned\\n') #writing the header\n",
    "    for student_data in final_data:\n",
    "        f.writelines(','.join(student_data))\n",
    "        f.write('\\n')"
   ]
  },
  {
   "cell_type": "markdown",
   "metadata": {
    "id": "thlyLHA4sJXF"
   },
   "source": [
    "\n",
    "# Step3:Analysis the result with pie chart."
   ]
  },
  {
   "cell_type": "code",
   "execution_count": null,
   "metadata": {
    "id": "OwgLPKNpvMxj"
   },
   "outputs": [],
   "source": []
  },
  {
   "cell_type": "markdown",
   "metadata": {
    "id": "vB8l_ViX7Ns4"
   },
   "source": []
  },
  {
   "cell_type": "code",
   "execution_count": null,
   "metadata": {
    "id": "MD3-U1ONvQL2"
   },
   "outputs": [],
   "source": []
  }
 ],
 "metadata": {
  "colab": {
   "collapsed_sections": [
    "09pyTOCEseuc",
    "_jtz0bGLzOb_",
    "hI3Vl2Cazi5r",
    "szX9hH4U0JLH",
    "hCc0Wziyz3wW",
    "YRcNc50nf_VY",
    "RqdAo73JVt6S",
    "uhcQF_IVvU5Y",
    "lezUOyulrH9w",
    "c_i9N6mLg55r"
   ],
   "provenance": []
  },
  "kernelspec": {
   "display_name": "Python 3 (ipykernel)",
   "language": "python",
   "name": "python3"
  },
  "language_info": {
   "codemirror_mode": {
    "name": "ipython",
    "version": 3
   },
   "file_extension": ".py",
   "mimetype": "text/x-python",
   "name": "python",
   "nbconvert_exporter": "python",
   "pygments_lexer": "ipython3",
   "version": "3.12.5"
  }
 },
 "nbformat": 4,
 "nbformat_minor": 4
}
