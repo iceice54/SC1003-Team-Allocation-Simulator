{
 "cells": [
  {
   "cell_type": "markdown",
   "id": "e1549081-0227-4d27-8f8a-25672c61b4db",
   "metadata": {},
   "source": [
    "# SC1003 Mini-Project - Team Allocation Simulator\n"
   ]
  },
  {
   "cell_type": "code",
   "execution_count": null,
   "id": "7a1274f9-984e-4dba-a92b-79785047c8b2",
   "metadata": {},
   "outputs": [],
   "source": []
  },
  {
   "cell_type": "markdown",
   "id": "9ab44e0c",
   "metadata": {},
   "source": [
    "wasdadd\n"
   ]
  }
 ],
 "metadata": {
  "kernelspec": {
   "display_name": "Python 3 (ipykernel)",
   "language": "python",
   "name": "python3"
  },
  "language_info": {
   "codemirror_mode": {
    "name": "ipython",
    "version": 3
   },
   "file_extension": ".py",
   "mimetype": "text/x-python",
   "name": "python",
   "nbconvert_exporter": "python",
   "pygments_lexer": "ipython3",
   "version": "3.12.5"
  }
 },
 "nbformat": 4,
 "nbformat_minor": 5
}
